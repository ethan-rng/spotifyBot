{
 "cells": [
  {
   "cell_type": "code",
   "execution_count": 3,
   "id": "18e32148",
   "metadata": {},
   "outputs": [],
   "source": [
    "from googleapiclient.discovery import build\n",
    "from config import yt_API_KEY as API_KEY\n",
    "import os"
   ]
  },
  {
   "cell_type": "code",
   "execution_count": 4,
   "id": "dbff4876",
   "metadata": {},
   "outputs": [],
   "source": [
    "def createYoutubePlaylist():\n",
    "    with build(\"youtube\", \"v3\", developerKey=API_KEY) as service:\n",
    "        req = service.search().list(\n",
    "            part=\"snippet\",\n",
    "            q=f\"{artist} {song} {searchTerm}\",\n",
    "            type=\"video\",\n",
    "        )\n",
    "        response = req.execute()"
   ]
  },
  {
   "cell_type": "code",
   "execution_count": 1,
   "id": "c97a9c0b",
   "metadata": {},
   "outputs": [],
   "source": [
    "class Song:\n",
    "    def __init__(self, JSONSong):\n",
    "        self.title = JSONSong[\"title\"]\n",
    "        self.artist = JSONSong[\"artist\"]\n",
    "        self.youtubeLink = JSONSong[\"youtubeLink\"]\n",
    "        self.path = JSONSong[\"path\"]\n",
    "        self.image = JSONSong[\"image\"]\n",
    "\n",
    "    def __eq__(self, other):\n",
    "        if (self.title is other.title and self.artist is other.artist) or (self.youtubeLink is other.youtubeLink):\n",
    "            return True\n",
    "        return False\n",
    "\n",
    "    def getSong(self):\n",
    "        return {\n",
    "            \"title\": self.title,\n",
    "            \"artist\": self.artist,\n",
    "            \"youtubeLink\": self.youtubeLink,\n",
    "            \"path\": self.path,\n",
    "            \"image\": self.image\n",
    "        }\n",
    "\n",
    "    def checkMaster(self):\n",
    "        with open(f\"{os.getcwd()}/playlist/master/master.json\", \"r\") as master:\n",
    "            master = json.load(master)\n",
    "\n",
    "            # We do this because not all the things matters\n",
    "            for song in master[\"Songs\"]:\n",
    "                if self == Song(song):\n",
    "                    return True\n",
    "        return False\n",
    "    "
   ]
  },
  {
   "cell_type": "code",
   "execution_count": null,
   "id": "49a2827e",
   "metadata": {},
   "outputs": [],
   "source": [
    "song = {\n",
    "    \"title\": \"Hot Line Bling\",\n",
    "    \"artist\": \"Drake\",\n",
    "    \"youtubeLink\": \"https://www.youtube.com/watch?v=uxpDa-c-4Mc\",\n",
    "    \"path\"\n",
    "}"
   ]
  },
  {
   "cell_type": "code",
   "execution_count": null,
   "id": "d1ae9348",
   "metadata": {
    "collapsed": true
   },
   "outputs": [],
   "source": []
  }
 ],
 "metadata": {
  "kernelspec": {
   "display_name": "Python 3 (ipykernel)",
   "language": "python",
   "name": "python3"
  },
  "language_info": {
   "codemirror_mode": {
    "name": "ipython",
    "version": 3
   },
   "file_extension": ".py",
   "mimetype": "text/x-python",
   "name": "python",
   "nbconvert_exporter": "python",
   "pygments_lexer": "ipython3",
   "version": "3.10.4"
  }
 },
 "nbformat": 4,
 "nbformat_minor": 5
}
