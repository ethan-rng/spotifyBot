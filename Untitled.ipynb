{
 "cells": [
  {
   "cell_type": "code",
   "execution_count": 7,
   "id": "18e32148",
   "metadata": {},
   "outputs": [],
   "source": [
    "from googleapiclient.discovery import build\n",
    "from config import yt_API_KEY as API_KEY\n",
    "import os\n",
    "import json"
   ]
  },
  {
   "cell_type": "code",
   "execution_count": 8,
   "id": "35de6e3e",
   "metadata": {},
   "outputs": [],
   "source": [
    "masterPath = f\"{os.getcwd()}/playlist/master/master.json\""
   ]
  },
  {
   "cell_type": "code",
   "execution_count": 21,
   "id": "dbff4876",
   "metadata": {},
   "outputs": [],
   "source": [
    "def createYoutubePlaylist():\n",
    "    with build(\"youtube\", \"v3\", developerKey=API_KEY) as service:\n",
    "        req = service.search().list(\n",
    "            part=\"snippet\",\n",
    "            q=f\"{artist} {song} {searchTerm}\",\n",
    "            type=\"video\"\n",
    "        )\n",
    "        response = req.execute()"
   ]
  },
  {
   "cell_type": "code",
   "execution_count": 21,
   "id": "c97a9c0b",
   "metadata": {},
   "outputs": [],
   "source": [
    "class Song:\n",
    "    def __init__(self, JSONSong):\n",
    "        self.title = JSONSong[\"title\"]\n",
    "        self.artist = JSONSong[\"artist\"]\n",
    "        self.youtubeLink = JSONSong[\"youtubeLink\"]\n",
    "        self.path = JSONSong[\"path\"]\n",
    "        self.image = JSONSong[\"image\"]\n",
    "\n",
    "    def __eq__(self, other):\n",
    "        if (self.title == other.title and self.artist == other.artist) or (self.youtubeLink == other.youtubeLink):\n",
    "            return True\n",
    "        \n",
    "        return False\n",
    "    \n",
    "    def getSong(self):\n",
    "        return {\n",
    "            \"title\": self.title,\n",
    "            \"artist\": self.artist,\n",
    "            \"youtubeLink\": self.youtubeLink,\n",
    "            \"path\": self.path,\n",
    "            \"image\": self.image\n",
    "        }\n",
    "\n",
    "    def checkMaster(self):\n",
    "        with open(masterPath, \"r\") as master:\n",
    "            master = json.load(master)\n",
    "            \n",
    "            # We do this because not all the things matters\n",
    "            for song in master[\"Songs\"]:\n",
    "                if self == Song(song):\n",
    "                    return True\n",
    "                \n",
    "            return False\n",
    "        \n",
    "    def getMaster(self, printMaster=False):\n",
    "        with open(masterPath, \"r\") as masterJSONFile:\n",
    "            master = json.load(masterJSONFile)\n",
    "            \n",
    "        if printMaster:\n",
    "            print(master)\n",
    "            \n",
    "        return master\n",
    "        \n",
    "    def addSong(self):\n",
    "        if not self.checkMaster():\n",
    "            master = self.getMaster()\n",
    "            master[\"Songs\"].append(self.getSong())\n",
    "            \n",
    "            with open(masterPath, 'w') as masterJSONFile:\n",
    "                json.dump(master, masterJSONFile, \n",
    "                        indent=4,  \n",
    "                        separators=(',',': '))\n",
    "        else:\n",
    "            print(\"Song Already Here\")\n"
   ]
  },
  {
   "cell_type": "code",
   "execution_count": 22,
   "id": "ee2a4214",
   "metadata": {},
   "outputs": [],
   "source": [
    "song = {\n",
    "    \"title\": \"Never Gonna Give You Up\",\n",
    "    \"artist\": \"Rick Astley\",\n",
    "    \"youtubeLink\": \"https://www.youtube.com/watch?v=dQw4w9WgXcQ\",\n",
    "    \"image\": \"https://i.scdn.co/image/ab67616d00001e02baf89eb11ec7c657805d2da0\",\n",
    "    \"path\": \"/Users/ethanrong/Documents/GitHub/spotifyBot/playlist/master/Never-Gonna-Give-You-Up.mp3\"\n",
    "}"
   ]
  },
  {
   "cell_type": "code",
   "execution_count": 24,
   "id": "6921cf77",
   "metadata": {},
   "outputs": [
    {
     "data": {
      "text/plain": [
       "{'Songs': [{'title': 'Sandstorm',\n",
       "   'artist': 'Darude',\n",
       "   'youtubeLink': 'https://www.youtube.com/watch?v=xCfc6nB_qw8',\n",
       "   'image': 'https://i.scdn.co/image/ab67616d00001e02f9ef39657ba18c612641ee6d',\n",
       "   'path': '/Users/ethanrong/Documents/GitHub/spotifyBot/playlist/master/Sandstorm.mp3'},\n",
       "  {'title': 'Baby Shark',\n",
       "   'artist': 'Pinkfong',\n",
       "   'youtubeLink': 'www.youtube.com/watch?v=93WO-N8snTk',\n",
       "   'image': 'https://i.scdn.co/image/ab67616d00001e0211723f2867f29b2134ae47e4',\n",
       "   'path': '/Users/ethanrong/Documents/GitHub/spotifyBot/playlist/master/Baby-Shark.mp3'},\n",
       "  {'title': 'Never Gonna Give You Up',\n",
       "   'artist': 'Rick Astley',\n",
       "   'youtubeLink': 'https://www.youtube.com/watch?v=dQw4w9WgXcQ',\n",
       "   'path': '/Users/ethanrong/Documents/GitHub/spotifyBot/playlist/master/Never-Gonna-Give-You-Up.mp3',\n",
       "   'image': 'https://i.scdn.co/image/ab67616d00001e02baf89eb11ec7c657805d2da0'}]}"
      ]
     },
     "execution_count": 24,
     "metadata": {},
     "output_type": "execute_result"
    }
   ],
   "source": [
    "Song(song).getMaster()"
   ]
  },
  {
   "cell_type": "code",
   "execution_count": 28,
   "id": "73d0bdb4",
   "metadata": {},
   "outputs": [],
   "source": [
    "class Playlist:\n",
    "    def __init__(self, link):\n",
    "        self.Title = sp.playlist(link[34:])[\"name\"]\n",
    "        self.Link = link\n",
    "        self.Songs, self.Image = SpotifyScraper(link).getSpotifyData()\n",
    "\n",
    "        # self.JSONObject = Downloader(self).downloadMusic()\n",
    "\n",
    "    def saveJSONFile(self):\n",
    "        pass\n",
    "    \n",
    "    def getPlaylist():\n",
    "        return {\n",
    "            \"Title\": self.Title,\n",
    "            \"Link\": self.Link,\n",
    "            \"Image\": self.Image,\n",
    "            \"Songs\": self.Songs,\n",
    "        }\n",
    "\n"
   ]
  },
  {
   "cell_type": "code",
   "execution_count": 24,
   "id": "0edf833b",
   "metadata": {},
   "outputs": [
    {
     "name": "stdout",
     "output_type": "stream",
     "text": [
      "True\n"
     ]
    }
   ],
   "source": [
    "print(Song(song).checkMaster())"
   ]
  },
  {
   "cell_type": "code",
   "execution_count": 5,
   "id": "ff77a6c8",
   "metadata": {},
   "outputs": [
    {
     "name": "stdout",
     "output_type": "stream",
     "text": [
      ".DS_Store\n",
      "<class 'str'>\n",
      "5e8p93Fnh69ezBz2NIkY9t.json\n",
      "<class 'str'>\n"
     ]
    }
   ],
   "source": [
    "import os\n",
    "for playlist in os.listdir(f\"{os.getcwd()}/music/masterPlaylist\"):\n",
    "    print(playlist)\n",
    "    print(type(playlist))"
   ]
  },
  {
   "cell_type": "code",
   "execution_count": null,
   "id": "0d340bff",
   "metadata": {},
   "outputs": [],
   "source": []
  },
  {
   "cell_type": "code",
   "execution_count": null,
   "id": "46a268b7",
   "metadata": {},
   "outputs": [],
   "source": []
  }
 ],
 "metadata": {
  "kernelspec": {
   "display_name": "Python 3 (ipykernel)",
   "language": "python",
   "name": "python3"
  },
  "language_info": {
   "codemirror_mode": {
    "name": "ipython",
    "version": 3
   },
   "file_extension": ".py",
   "mimetype": "text/x-python",
   "name": "python",
   "nbconvert_exporter": "python",
   "pygments_lexer": "ipython3",
   "version": "3.10.4"
  }
 },
 "nbformat": 4,
 "nbformat_minor": 5
}
