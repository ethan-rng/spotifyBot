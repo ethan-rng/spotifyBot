{
 "cells": [
  {
   "cell_type": "code",
   "execution_count": 2,
   "id": "d66c1be0",
   "metadata": {},
   "outputs": [],
   "source": [
    "import spotipy\n",
    "from flask import Flask, request, send_file, Response\n",
    "from flask_cors import CORS\n",
    "from flask_restful import Api, Resource, reqparse\n",
    "import firebase_admin\n",
    "from firebase_admin import firestore, credentials\n",
    "from flask import Flask\n",
    "from flask_cors import CORS\n",
    "from flask_restful import Api, Resource, reqparse\n",
    "from spotipy.oauth2 import SpotifyOAuth"
   ]
  },
  {
   "cell_type": "code",
   "execution_count": null,
   "id": "3ada684f",
   "metadata": {},
   "outputs": [],
   "source": []
  }
 ],
 "metadata": {
  "kernelspec": {
   "display_name": "Python 3 (ipykernel)",
   "language": "python",
   "name": "python3"
  },
  "language_info": {
   "codemirror_mode": {
    "name": "ipython",
    "version": 3
   },
   "file_extension": ".py",
   "mimetype": "text/x-python",
   "name": "python",
   "nbconvert_exporter": "python",
   "pygments_lexer": "ipython3",
   "version": "3.10.11"
  }
 },
 "nbformat": 4,
 "nbformat_minor": 5
}
